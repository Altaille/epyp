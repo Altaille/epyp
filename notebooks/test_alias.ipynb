{
 "cells": [
  {
   "cell_type": "code",
   "execution_count": 7,
   "id": "ca9817ae",
   "metadata": {},
   "outputs": [],
   "source": [
    "import re"
   ]
  },
  {
   "cell_type": "code",
   "execution_count": null,
   "id": "4fc8f8c2",
   "metadata": {},
   "outputs": [],
   "source": [
    "# Use 1: equiv between different sources\n",
    "dict_eq = {\n",
    "    '(.*)(.W)':{\n",
    "        'src1_name':{'reg':'{0}.m'},\n",
    "        'src2_name':{'reg': lambda grps, df: 3600*(df[grps[0]+'.m1'] + df[grps[0]+'.m2']))},\n",
    "               }\n",
    "}"
   ]
  },
  {
   "cell_type": "code",
   "execution_count": 13,
   "id": "3e7086fe",
   "metadata": {},
   "outputs": [
    {
     "name": "stdout",
     "output_type": "stream",
     "text": [
      "[('test.z', '[H2]')]\n"
     ]
    }
   ],
   "source": [
    "# Use 2: group isotopologues / unit conversion :\n",
    "#{name: name_str, alias_grps = [], re: reg_str, fct: f(re_groups_found) -> (list_vars, f(vars) -> result)}\n",
    "\n",
    "test_str = 'test.z[H2]'\n",
    "reg = re.compile('(.*)(\\[H2\\])')\n",
    "print(re.findall(reg, test_str))"
   ]
  },
  {
   "cell_type": "code",
   "execution_count": 18,
   "id": "9e7fb696",
   "metadata": {},
   "outputs": [
    {
     "name": "stdout",
     "output_type": "stream",
     "text": [
      "[('-5', '56')]\n",
      "[('', '')]\n"
     ]
    }
   ],
   "source": [
    "# Use 3: array extension (latest run)\n",
    "test_str = 'test.x{-5:56}'\n",
    "reg = re.compile('\\{(-?[0-9]*):(-?[0-9]*)\\}')\n",
    "print(re.findall(reg, test_str))\n",
    "test_str = 'test.x{:}'\n",
    "print(re.findall(reg, test_str))"
   ]
  },
  {
   "cell_type": "code",
   "execution_count": null,
   "id": "61aa0cb3",
   "metadata": {},
   "outputs": [],
   "source": [
    "aliases = [{'name'=},\n",
    "          ]"
   ]
  },
  {
   "cell_type": "code",
   "execution_count": null,
   "id": "4aaeffc7-b5ca-4e8a-8812-78e0bff53acb",
   "metadata": {},
   "outputs": [],
   "source": []
  }
 ],
 "metadata": {
  "kernelspec": {
   "display_name": "Python 3 (ipykernel)",
   "language": "python",
   "name": "python3"
  },
  "language_info": {
   "codemirror_mode": {
    "name": "ipython",
    "version": 3
   },
   "file_extension": ".py",
   "mimetype": "text/x-python",
   "name": "python",
   "nbconvert_exporter": "python",
   "pygments_lexer": "ipython3",
   "version": "3.8.13"
  }
 },
 "nbformat": 4,
 "nbformat_minor": 5
}
